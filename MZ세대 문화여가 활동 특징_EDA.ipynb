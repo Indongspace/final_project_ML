{
 "cells": [
  {
   "cell_type": "code",
   "execution_count": 1,
   "id": "23c6e490-375b-472f-92c3-85bcbb41ba8a",
   "metadata": {},
   "outputs": [
    {
     "data": {
      "text/html": [
       "<div>\n",
       "<style scoped>\n",
       "    .dataframe tbody tr th:only-of-type {\n",
       "        vertical-align: middle;\n",
       "    }\n",
       "\n",
       "    .dataframe tbody tr th {\n",
       "        vertical-align: top;\n",
       "    }\n",
       "\n",
       "    .dataframe thead th {\n",
       "        text-align: right;\n",
       "    }\n",
       "</style>\n",
       "<table border=\"1\" class=\"dataframe\">\n",
       "  <thead>\n",
       "    <tr style=\"text-align: right;\">\n",
       "      <th></th>\n",
       "      <th>응답자ID</th>\n",
       "      <th>조사시작일자</th>\n",
       "      <th>성별구분코드</th>\n",
       "      <th>연령대구분명</th>\n",
       "      <th>답변자거주지역명</th>\n",
       "      <th>가구소득정도명</th>\n",
       "      <th>레저시간사용목적1순위값</th>\n",
       "      <th>레저시간사용목적2순위값</th>\n",
       "      <th>평일일평균레저시간값</th>\n",
       "      <th>주말일평균레저시간값</th>\n",
       "      <th>레저시간휴식오락사용비율</th>\n",
       "      <th>레저시간취미사용비율</th>\n",
       "      <th>레저시간본인계발사용비율</th>\n",
       "      <th>레저시간대인관계교제사용비율</th>\n",
       "      <th>레저시간기타사용비율</th>\n",
       "      <th>관심레저활동1순위값</th>\n",
       "      <th>관심레저활동2순위값</th>\n",
       "      <th>관심레저활동3순위값</th>\n",
       "      <th>관심레저활동4순위값</th>\n",
       "      <th>관심레저활동5순위값</th>\n",
       "    </tr>\n",
       "  </thead>\n",
       "  <tbody>\n",
       "    <tr>\n",
       "      <th>0</th>\n",
       "      <td>236099</td>\n",
       "      <td>20240424</td>\n",
       "      <td>M</td>\n",
       "      <td>20대</td>\n",
       "      <td>서울특별시</td>\n",
       "      <td>700만원 이상</td>\n",
       "      <td>스트레스 해소를 위해</td>\n",
       "      <td>남는 시간을 보내기 위해</td>\n",
       "      <td>2</td>\n",
       "      <td>10</td>\n",
       "      <td>50</td>\n",
       "      <td>20</td>\n",
       "      <td>5</td>\n",
       "      <td>25</td>\n",
       "      <td>0</td>\n",
       "      <td>게임</td>\n",
       "      <td>볼링_ 당구-포켓볼 직접 하기</td>\n",
       "      <td>구기스포츠 직접 하기</td>\n",
       "      <td>친구-이성친구 만남</td>\n",
       "      <td>낮잠자기</td>\n",
       "    </tr>\n",
       "    <tr>\n",
       "      <th>1</th>\n",
       "      <td>289713</td>\n",
       "      <td>20240424</td>\n",
       "      <td>M</td>\n",
       "      <td>20대</td>\n",
       "      <td>대전광역시</td>\n",
       "      <td>300만원 미만</td>\n",
       "      <td>마음의 안정-휴식을 위해</td>\n",
       "      <td>스트레스 해소를 위해</td>\n",
       "      <td>2</td>\n",
       "      <td>10</td>\n",
       "      <td>10</td>\n",
       "      <td>60</td>\n",
       "      <td>10</td>\n",
       "      <td>20</td>\n",
       "      <td>0</td>\n",
       "      <td>헬스-보디빌딩 직접 하기</td>\n",
       "      <td>걷기-속보-조깅 직접 하기</td>\n",
       "      <td>독서</td>\n",
       "      <td>게임</td>\n",
       "      <td>친구-이성친구 만남</td>\n",
       "    </tr>\n",
       "    <tr>\n",
       "      <th>2</th>\n",
       "      <td>306059</td>\n",
       "      <td>20240424</td>\n",
       "      <td>M</td>\n",
       "      <td>20대</td>\n",
       "      <td>세종특별자치시</td>\n",
       "      <td>300만원 미만</td>\n",
       "      <td>마음의 안정-휴식을 위해</td>\n",
       "      <td>스트레스 해소를 위해</td>\n",
       "      <td>3</td>\n",
       "      <td>7</td>\n",
       "      <td>50</td>\n",
       "      <td>30</td>\n",
       "      <td>20</td>\n",
       "      <td>0</td>\n",
       "      <td>0</td>\n",
       "      <td>산책-걷기</td>\n",
       "      <td>없음</td>\n",
       "      <td>없음</td>\n",
       "      <td>없음</td>\n",
       "      <td>없음</td>\n",
       "    </tr>\n",
       "    <tr>\n",
       "      <th>3</th>\n",
       "      <td>332896</td>\n",
       "      <td>20240424</td>\n",
       "      <td>F</td>\n",
       "      <td>30대</td>\n",
       "      <td>서울특별시</td>\n",
       "      <td>300만원 미만</td>\n",
       "      <td>자기 계발을 위해</td>\n",
       "      <td>건강 관리를 위해</td>\n",
       "      <td>3</td>\n",
       "      <td>10</td>\n",
       "      <td>10</td>\n",
       "      <td>40</td>\n",
       "      <td>30</td>\n",
       "      <td>20</td>\n",
       "      <td>0</td>\n",
       "      <td>헬스-보디빌딩 직접 하기</td>\n",
       "      <td>어학-기술-자격증 취득</td>\n",
       "      <td>영상 컨텐츠 시청</td>\n",
       "      <td>등산 직접 하기</td>\n",
       "      <td>친구-이성친구 만남</td>\n",
       "    </tr>\n",
       "    <tr>\n",
       "      <th>4</th>\n",
       "      <td>335203</td>\n",
       "      <td>20240424</td>\n",
       "      <td>M</td>\n",
       "      <td>20대</td>\n",
       "      <td>부산광역시</td>\n",
       "      <td>300이상500만원 미만</td>\n",
       "      <td>자기만족-즐거움을 위해</td>\n",
       "      <td>건강 관리를 위해</td>\n",
       "      <td>4</td>\n",
       "      <td>10</td>\n",
       "      <td>40</td>\n",
       "      <td>15</td>\n",
       "      <td>30</td>\n",
       "      <td>15</td>\n",
       "      <td>0</td>\n",
       "      <td>독서</td>\n",
       "      <td>등산 직접 하기</td>\n",
       "      <td>없음</td>\n",
       "      <td>없음</td>\n",
       "      <td>없음</td>\n",
       "    </tr>\n",
       "  </tbody>\n",
       "</table>\n",
       "</div>"
      ],
      "text/plain": [
       "    응답자ID    조사시작일자 성별구분코드 연령대구분명 답변자거주지역명        가구소득정도명   레저시간사용목적1순위값  \\\n",
       "0  236099  20240424      M    20대    서울특별시       700만원 이상    스트레스 해소를 위해   \n",
       "1  289713  20240424      M    20대    대전광역시       300만원 미만  마음의 안정-휴식을 위해   \n",
       "2  306059  20240424      M    20대  세종특별자치시       300만원 미만  마음의 안정-휴식을 위해   \n",
       "3  332896  20240424      F    30대    서울특별시       300만원 미만      자기 계발을 위해   \n",
       "4  335203  20240424      M    20대    부산광역시  300이상500만원 미만   자기만족-즐거움을 위해   \n",
       "\n",
       "    레저시간사용목적2순위값  평일일평균레저시간값  주말일평균레저시간값  레저시간휴식오락사용비율  레저시간취미사용비율  \\\n",
       "0  남는 시간을 보내기 위해           2          10            50          20   \n",
       "1    스트레스 해소를 위해           2          10            10          60   \n",
       "2    스트레스 해소를 위해           3           7            50          30   \n",
       "3      건강 관리를 위해           3          10            10          40   \n",
       "4      건강 관리를 위해           4          10            40          15   \n",
       "\n",
       "   레저시간본인계발사용비율  레저시간대인관계교제사용비율  레저시간기타사용비율     관심레저활동1순위값        관심레저활동2순위값  \\\n",
       "0             5              25           0             게임  볼링_ 당구-포켓볼 직접 하기   \n",
       "1            10              20           0  헬스-보디빌딩 직접 하기    걷기-속보-조깅 직접 하기   \n",
       "2            20               0           0          산책-걷기                없음   \n",
       "3            30              20           0  헬스-보디빌딩 직접 하기      어학-기술-자격증 취득   \n",
       "4            30              15           0             독서          등산 직접 하기   \n",
       "\n",
       "    관심레저활동3순위값  관심레저활동4순위값  관심레저활동5순위값  \n",
       "0  구기스포츠 직접 하기  친구-이성친구 만남        낮잠자기  \n",
       "1           독서          게임  친구-이성친구 만남  \n",
       "2           없음          없음          없음  \n",
       "3    영상 컨텐츠 시청    등산 직접 하기  친구-이성친구 만남  \n",
       "4           없음          없음          없음  "
      ]
     },
     "execution_count": 1,
     "metadata": {},
     "output_type": "execute_result"
    }
   ],
   "source": [
    "import pandas as pd\n",
    "import numpy as np\n",
    "\n",
    "df = pd.read_csv('data/MZ세대 문화여가 활동 특징_20240424.csv')\n",
    "df.head()"
   ]
  },
  {
   "cell_type": "code",
   "execution_count": 2,
   "id": "e2922265-0d52-434e-afe8-5153163fe9d8",
   "metadata": {},
   "outputs": [
    {
     "data": {
      "text/plain": [
       "0    236099\n",
       "1    289713\n",
       "2    306059\n",
       "Name: 응답자ID, dtype: int64"
      ]
     },
     "execution_count": 2,
     "metadata": {},
     "output_type": "execute_result"
    }
   ],
   "source": [
    "ID = df['응답자ID'].copy()\n",
    "ID.head(3)"
   ]
  },
  {
   "cell_type": "code",
   "execution_count": 3,
   "id": "42337f5a-64f2-4527-a648-c9688a38a649",
   "metadata": {},
   "outputs": [
    {
     "data": {
      "text/html": [
       "<div>\n",
       "<style scoped>\n",
       "    .dataframe tbody tr th:only-of-type {\n",
       "        vertical-align: middle;\n",
       "    }\n",
       "\n",
       "    .dataframe tbody tr th {\n",
       "        vertical-align: top;\n",
       "    }\n",
       "\n",
       "    .dataframe thead th {\n",
       "        text-align: right;\n",
       "    }\n",
       "</style>\n",
       "<table border=\"1\" class=\"dataframe\">\n",
       "  <thead>\n",
       "    <tr style=\"text-align: right;\">\n",
       "      <th></th>\n",
       "      <th>성별구분코드</th>\n",
       "      <th>연령대구분명</th>\n",
       "      <th>답변자거주지역명</th>\n",
       "      <th>가구소득정도명</th>\n",
       "      <th>레저시간사용목적1순위값</th>\n",
       "      <th>레저시간사용목적2순위값</th>\n",
       "      <th>평일일평균레저시간값</th>\n",
       "      <th>주말일평균레저시간값</th>\n",
       "      <th>레저시간휴식오락사용비율</th>\n",
       "      <th>레저시간취미사용비율</th>\n",
       "      <th>레저시간본인계발사용비율</th>\n",
       "      <th>레저시간대인관계교제사용비율</th>\n",
       "      <th>레저시간기타사용비율</th>\n",
       "      <th>관심레저활동1순위값</th>\n",
       "      <th>관심레저활동2순위값</th>\n",
       "      <th>관심레저활동3순위값</th>\n",
       "      <th>관심레저활동4순위값</th>\n",
       "      <th>관심레저활동5순위값</th>\n",
       "    </tr>\n",
       "  </thead>\n",
       "  <tbody>\n",
       "    <tr>\n",
       "      <th>0</th>\n",
       "      <td>M</td>\n",
       "      <td>20대</td>\n",
       "      <td>서울특별시</td>\n",
       "      <td>700만원 이상</td>\n",
       "      <td>스트레스 해소를 위해</td>\n",
       "      <td>남는 시간을 보내기 위해</td>\n",
       "      <td>2</td>\n",
       "      <td>10</td>\n",
       "      <td>50</td>\n",
       "      <td>20</td>\n",
       "      <td>5</td>\n",
       "      <td>25</td>\n",
       "      <td>0</td>\n",
       "      <td>게임</td>\n",
       "      <td>볼링_ 당구-포켓볼 직접 하기</td>\n",
       "      <td>구기스포츠 직접 하기</td>\n",
       "      <td>친구-이성친구 만남</td>\n",
       "      <td>낮잠자기</td>\n",
       "    </tr>\n",
       "    <tr>\n",
       "      <th>1</th>\n",
       "      <td>M</td>\n",
       "      <td>20대</td>\n",
       "      <td>대전광역시</td>\n",
       "      <td>300만원 미만</td>\n",
       "      <td>마음의 안정-휴식을 위해</td>\n",
       "      <td>스트레스 해소를 위해</td>\n",
       "      <td>2</td>\n",
       "      <td>10</td>\n",
       "      <td>10</td>\n",
       "      <td>60</td>\n",
       "      <td>10</td>\n",
       "      <td>20</td>\n",
       "      <td>0</td>\n",
       "      <td>헬스-보디빌딩 직접 하기</td>\n",
       "      <td>걷기-속보-조깅 직접 하기</td>\n",
       "      <td>독서</td>\n",
       "      <td>게임</td>\n",
       "      <td>친구-이성친구 만남</td>\n",
       "    </tr>\n",
       "    <tr>\n",
       "      <th>2</th>\n",
       "      <td>M</td>\n",
       "      <td>20대</td>\n",
       "      <td>세종특별자치시</td>\n",
       "      <td>300만원 미만</td>\n",
       "      <td>마음의 안정-휴식을 위해</td>\n",
       "      <td>스트레스 해소를 위해</td>\n",
       "      <td>3</td>\n",
       "      <td>7</td>\n",
       "      <td>50</td>\n",
       "      <td>30</td>\n",
       "      <td>20</td>\n",
       "      <td>0</td>\n",
       "      <td>0</td>\n",
       "      <td>산책-걷기</td>\n",
       "      <td>없음</td>\n",
       "      <td>없음</td>\n",
       "      <td>없음</td>\n",
       "      <td>없음</td>\n",
       "    </tr>\n",
       "  </tbody>\n",
       "</table>\n",
       "</div>"
      ],
      "text/plain": [
       "  성별구분코드 연령대구분명 답변자거주지역명   가구소득정도명   레저시간사용목적1순위값   레저시간사용목적2순위값  평일일평균레저시간값  \\\n",
       "0      M    20대    서울특별시  700만원 이상    스트레스 해소를 위해  남는 시간을 보내기 위해           2   \n",
       "1      M    20대    대전광역시  300만원 미만  마음의 안정-휴식을 위해    스트레스 해소를 위해           2   \n",
       "2      M    20대  세종특별자치시  300만원 미만  마음의 안정-휴식을 위해    스트레스 해소를 위해           3   \n",
       "\n",
       "   주말일평균레저시간값  레저시간휴식오락사용비율  레저시간취미사용비율  레저시간본인계발사용비율  레저시간대인관계교제사용비율  \\\n",
       "0          10            50          20             5              25   \n",
       "1          10            10          60            10              20   \n",
       "2           7            50          30            20               0   \n",
       "\n",
       "   레저시간기타사용비율     관심레저활동1순위값        관심레저활동2순위값   관심레저활동3순위값  관심레저활동4순위값  \\\n",
       "0           0             게임  볼링_ 당구-포켓볼 직접 하기  구기스포츠 직접 하기  친구-이성친구 만남   \n",
       "1           0  헬스-보디빌딩 직접 하기    걷기-속보-조깅 직접 하기           독서          게임   \n",
       "2           0          산책-걷기                없음           없음          없음   \n",
       "\n",
       "   관심레저활동5순위값  \n",
       "0        낮잠자기  \n",
       "1  친구-이성친구 만남  \n",
       "2          없음  "
      ]
     },
     "execution_count": 3,
     "metadata": {},
     "output_type": "execute_result"
    }
   ],
   "source": [
    "df = df.drop(columns=['응답자ID','조사시작일자'])\n",
    "df.head(3)"
   ]
  },
  {
   "cell_type": "markdown",
   "id": "190f3696-5b21-4865-a674-94d7ba26b2c5",
   "metadata": {},
   "source": [
    "- 1. 라이브러리 및 데이터 확인\n",
    "  2. 데이터 탐색(EDA)\n",
    "  3. 데이터 전처리 및 분리"
   ]
  },
  {
   "cell_type": "markdown",
   "id": "6e572316-33cb-43b5-84d1-94d3bfb4fb4a",
   "metadata": {},
   "source": [
    "### 데이터 탐색(EDA)"
   ]
  },
  {
   "cell_type": "code",
   "execution_count": 4,
   "id": "a879bd60-0a8e-4ea4-b102-b0296eedba7d",
   "metadata": {},
   "outputs": [
    {
     "data": {
      "text/plain": [
       "(525, 18)"
      ]
     },
     "execution_count": 4,
     "metadata": {},
     "output_type": "execute_result"
    }
   ],
   "source": [
    "df.shape"
   ]
  },
  {
   "cell_type": "code",
   "execution_count": 5,
   "id": "c719add6-5bc9-44fb-ba53-d8c0f98303ac",
   "metadata": {},
   "outputs": [
    {
     "name": "stdout",
     "output_type": "stream",
     "text": [
      "<class 'pandas.core.frame.DataFrame'>\n",
      "RangeIndex: 525 entries, 0 to 524\n",
      "Data columns (total 18 columns):\n",
      " #   Column          Non-Null Count  Dtype \n",
      "---  ------          --------------  ----- \n",
      " 0   성별구분코드          525 non-null    object\n",
      " 1   연령대구분명          525 non-null    object\n",
      " 2   답변자거주지역명        525 non-null    object\n",
      " 3   가구소득정도명         525 non-null    object\n",
      " 4   레저시간사용목적1순위값    525 non-null    object\n",
      " 5   레저시간사용목적2순위값    525 non-null    object\n",
      " 6   평일일평균레저시간값      525 non-null    int64 \n",
      " 7   주말일평균레저시간값      525 non-null    int64 \n",
      " 8   레저시간휴식오락사용비율    525 non-null    int64 \n",
      " 9   레저시간취미사용비율      525 non-null    int64 \n",
      " 10  레저시간본인계발사용비율    525 non-null    int64 \n",
      " 11  레저시간대인관계교제사용비율  525 non-null    int64 \n",
      " 12  레저시간기타사용비율      525 non-null    int64 \n",
      " 13  관심레저활동1순위값      525 non-null    object\n",
      " 14  관심레저활동2순위값      525 non-null    object\n",
      " 15  관심레저활동3순위값      525 non-null    object\n",
      " 16  관심레저활동4순위값      525 non-null    object\n",
      " 17  관심레저활동5순위값      525 non-null    object\n",
      "dtypes: int64(7), object(11)\n",
      "memory usage: 74.0+ KB\n"
     ]
    }
   ],
   "source": [
    "df.info()"
   ]
  },
  {
   "cell_type": "code",
   "execution_count": 6,
   "id": "8c8758f7-0a17-41d4-bc0a-5570744e2359",
   "metadata": {},
   "outputs": [
    {
     "data": {
      "text/plain": [
       "성별구분코드            0\n",
       "연령대구분명            0\n",
       "답변자거주지역명          0\n",
       "가구소득정도명           0\n",
       "레저시간사용목적1순위값      0\n",
       "레저시간사용목적2순위값      0\n",
       "평일일평균레저시간값        0\n",
       "주말일평균레저시간값        0\n",
       "레저시간휴식오락사용비율      0\n",
       "레저시간취미사용비율        0\n",
       "레저시간본인계발사용비율      0\n",
       "레저시간대인관계교제사용비율    0\n",
       "레저시간기타사용비율        0\n",
       "관심레저활동1순위값        0\n",
       "관심레저활동2순위값        0\n",
       "관심레저활동3순위값        0\n",
       "관심레저활동4순위값        0\n",
       "관심레저활동5순위값        0\n",
       "dtype: int64"
      ]
     },
     "execution_count": 6,
     "metadata": {},
     "output_type": "execute_result"
    }
   ],
   "source": [
    "df.isnull().sum()"
   ]
  },
  {
   "cell_type": "code",
   "execution_count": 7,
   "id": "870ad0f2-3cd8-453c-97fa-abd396f14991",
   "metadata": {},
   "outputs": [
    {
     "data": {
      "text/plain": [
       "연령대구분명\n",
       "50대    123\n",
       "40대    112\n",
       "60대    109\n",
       "30대     94\n",
       "20대     87\n",
       "Name: count, dtype: int64"
      ]
     },
     "execution_count": 7,
     "metadata": {},
     "output_type": "execute_result"
    }
   ],
   "source": [
    "df.value_counts('연령대구분명')"
   ]
  },
  {
   "cell_type": "code",
   "execution_count": 8,
   "id": "9df42a99-4211-4ac3-849d-244183385821",
   "metadata": {},
   "outputs": [
    {
     "data": {
      "text/plain": [
       "0      20대\n",
       "1      20대\n",
       "2      20대\n",
       "3      30대\n",
       "4      20대\n",
       "      ... \n",
       "520    30대\n",
       "521    20대\n",
       "522    60대\n",
       "523    40대\n",
       "524    20대\n",
       "Name: 연령대구분명, Length: 525, dtype: object"
      ]
     },
     "execution_count": 8,
     "metadata": {},
     "output_type": "execute_result"
    }
   ],
   "source": [
    "df['연령대구분명']"
   ]
  },
  {
   "cell_type": "code",
   "execution_count": 9,
   "id": "8b919480-e54b-460b-931f-fba2cb064c31",
   "metadata": {},
   "outputs": [
    {
     "data": {
      "text/html": [
       "<div>\n",
       "<style scoped>\n",
       "    .dataframe tbody tr th:only-of-type {\n",
       "        vertical-align: middle;\n",
       "    }\n",
       "\n",
       "    .dataframe tbody tr th {\n",
       "        vertical-align: top;\n",
       "    }\n",
       "\n",
       "    .dataframe thead th {\n",
       "        text-align: right;\n",
       "    }\n",
       "</style>\n",
       "<table border=\"1\" class=\"dataframe\">\n",
       "  <thead>\n",
       "    <tr style=\"text-align: right;\">\n",
       "      <th></th>\n",
       "      <th>성별구분코드</th>\n",
       "      <th>연령대구분명</th>\n",
       "      <th>답변자거주지역명</th>\n",
       "      <th>가구소득정도명</th>\n",
       "      <th>레저시간사용목적1순위값</th>\n",
       "      <th>레저시간사용목적2순위값</th>\n",
       "      <th>평일일평균레저시간값</th>\n",
       "      <th>주말일평균레저시간값</th>\n",
       "      <th>레저시간휴식오락사용비율</th>\n",
       "      <th>레저시간취미사용비율</th>\n",
       "      <th>레저시간본인계발사용비율</th>\n",
       "      <th>레저시간대인관계교제사용비율</th>\n",
       "      <th>레저시간기타사용비율</th>\n",
       "      <th>관심레저활동1순위값</th>\n",
       "      <th>관심레저활동2순위값</th>\n",
       "      <th>관심레저활동3순위값</th>\n",
       "      <th>관심레저활동4순위값</th>\n",
       "      <th>관심레저활동5순위값</th>\n",
       "    </tr>\n",
       "  </thead>\n",
       "  <tbody>\n",
       "    <tr>\n",
       "      <th>0</th>\n",
       "      <td>M</td>\n",
       "      <td>20대</td>\n",
       "      <td>서울특별시</td>\n",
       "      <td>700만원 이상</td>\n",
       "      <td>스트레스 해소를 위해</td>\n",
       "      <td>남는 시간을 보내기 위해</td>\n",
       "      <td>2</td>\n",
       "      <td>10</td>\n",
       "      <td>50</td>\n",
       "      <td>20</td>\n",
       "      <td>5</td>\n",
       "      <td>25</td>\n",
       "      <td>0</td>\n",
       "      <td>게임</td>\n",
       "      <td>볼링_ 당구-포켓볼 직접 하기</td>\n",
       "      <td>구기스포츠 직접 하기</td>\n",
       "      <td>친구-이성친구 만남</td>\n",
       "      <td>낮잠자기</td>\n",
       "    </tr>\n",
       "    <tr>\n",
       "      <th>1</th>\n",
       "      <td>M</td>\n",
       "      <td>20대</td>\n",
       "      <td>대전광역시</td>\n",
       "      <td>300만원 미만</td>\n",
       "      <td>마음의 안정-휴식을 위해</td>\n",
       "      <td>스트레스 해소를 위해</td>\n",
       "      <td>2</td>\n",
       "      <td>10</td>\n",
       "      <td>10</td>\n",
       "      <td>60</td>\n",
       "      <td>10</td>\n",
       "      <td>20</td>\n",
       "      <td>0</td>\n",
       "      <td>헬스-보디빌딩 직접 하기</td>\n",
       "      <td>걷기-속보-조깅 직접 하기</td>\n",
       "      <td>독서</td>\n",
       "      <td>게임</td>\n",
       "      <td>친구-이성친구 만남</td>\n",
       "    </tr>\n",
       "    <tr>\n",
       "      <th>2</th>\n",
       "      <td>M</td>\n",
       "      <td>20대</td>\n",
       "      <td>세종특별자치시</td>\n",
       "      <td>300만원 미만</td>\n",
       "      <td>마음의 안정-휴식을 위해</td>\n",
       "      <td>스트레스 해소를 위해</td>\n",
       "      <td>3</td>\n",
       "      <td>7</td>\n",
       "      <td>50</td>\n",
       "      <td>30</td>\n",
       "      <td>20</td>\n",
       "      <td>0</td>\n",
       "      <td>0</td>\n",
       "      <td>산책-걷기</td>\n",
       "      <td>없음</td>\n",
       "      <td>없음</td>\n",
       "      <td>없음</td>\n",
       "      <td>없음</td>\n",
       "    </tr>\n",
       "  </tbody>\n",
       "</table>\n",
       "</div>"
      ],
      "text/plain": [
       "  성별구분코드 연령대구분명 답변자거주지역명   가구소득정도명   레저시간사용목적1순위값   레저시간사용목적2순위값  평일일평균레저시간값  \\\n",
       "0      M    20대    서울특별시  700만원 이상    스트레스 해소를 위해  남는 시간을 보내기 위해           2   \n",
       "1      M    20대    대전광역시  300만원 미만  마음의 안정-휴식을 위해    스트레스 해소를 위해           2   \n",
       "2      M    20대  세종특별자치시  300만원 미만  마음의 안정-휴식을 위해    스트레스 해소를 위해           3   \n",
       "\n",
       "   주말일평균레저시간값  레저시간휴식오락사용비율  레저시간취미사용비율  레저시간본인계발사용비율  레저시간대인관계교제사용비율  \\\n",
       "0          10            50          20             5              25   \n",
       "1          10            10          60            10              20   \n",
       "2           7            50          30            20               0   \n",
       "\n",
       "   레저시간기타사용비율     관심레저활동1순위값        관심레저활동2순위값   관심레저활동3순위값  관심레저활동4순위값  \\\n",
       "0           0             게임  볼링_ 당구-포켓볼 직접 하기  구기스포츠 직접 하기  친구-이성친구 만남   \n",
       "1           0  헬스-보디빌딩 직접 하기    걷기-속보-조깅 직접 하기           독서          게임   \n",
       "2           0          산책-걷기                없음           없음          없음   \n",
       "\n",
       "   관심레저활동5순위값  \n",
       "0        낮잠자기  \n",
       "1  친구-이성친구 만남  \n",
       "2          없음  "
      ]
     },
     "execution_count": 9,
     "metadata": {},
     "output_type": "execute_result"
    }
   ],
   "source": [
    "# 우리 목표인 2030의 응답만 추출\n",
    "cond20s = (df['연령대구분명']=='20대')\n",
    "cond30s = (df['연령대구분명']=='30대')\n",
    "df = df[cond20s | cond30s]\n",
    "df.head(3)"
   ]
  },
  {
   "cell_type": "code",
   "execution_count": 10,
   "id": "5775029f-ce60-4579-bf92-7780894460a5",
   "metadata": {},
   "outputs": [
    {
     "data": {
      "text/plain": [
       "가구소득정도명\n",
       "300만원 미만         47\n",
       "300이상500만원 미만    41\n",
       "500이상700만원 미만    32\n",
       "700만원 이상         32\n",
       "무응답              29\n",
       "Name: count, dtype: int64"
      ]
     },
     "execution_count": 10,
     "metadata": {},
     "output_type": "execute_result"
    }
   ],
   "source": [
    "df.value_counts('가구소득정도명')"
   ]
  },
  {
   "cell_type": "code",
   "execution_count": 11,
   "id": "950e0da5-5029-4682-96c5-2852ded00cc6",
   "metadata": {},
   "outputs": [
    {
     "data": {
      "text/html": [
       "<div>\n",
       "<style scoped>\n",
       "    .dataframe tbody tr th:only-of-type {\n",
       "        vertical-align: middle;\n",
       "    }\n",
       "\n",
       "    .dataframe tbody tr th {\n",
       "        vertical-align: top;\n",
       "    }\n",
       "\n",
       "    .dataframe thead th {\n",
       "        text-align: right;\n",
       "    }\n",
       "</style>\n",
       "<table border=\"1\" class=\"dataframe\">\n",
       "  <thead>\n",
       "    <tr style=\"text-align: right;\">\n",
       "      <th></th>\n",
       "      <th>성별구분코드</th>\n",
       "      <th>연령대구분명</th>\n",
       "      <th>답변자거주지역명</th>\n",
       "      <th>가구소득정도명</th>\n",
       "      <th>레저시간사용목적1순위값</th>\n",
       "      <th>레저시간사용목적2순위값</th>\n",
       "      <th>평일일평균레저시간값</th>\n",
       "      <th>주말일평균레저시간값</th>\n",
       "      <th>레저시간휴식오락사용비율</th>\n",
       "      <th>레저시간취미사용비율</th>\n",
       "      <th>레저시간본인계발사용비율</th>\n",
       "      <th>레저시간대인관계교제사용비율</th>\n",
       "      <th>레저시간기타사용비율</th>\n",
       "      <th>관심레저활동1순위값</th>\n",
       "      <th>관심레저활동2순위값</th>\n",
       "      <th>관심레저활동3순위값</th>\n",
       "      <th>관심레저활동4순위값</th>\n",
       "      <th>관심레저활동5순위값</th>\n",
       "    </tr>\n",
       "  </thead>\n",
       "  <tbody>\n",
       "    <tr>\n",
       "      <th>0</th>\n",
       "      <td>M</td>\n",
       "      <td>20대</td>\n",
       "      <td>대전광역시</td>\n",
       "      <td>300만원 미만</td>\n",
       "      <td>마음의 안정-휴식을 위해</td>\n",
       "      <td>스트레스 해소를 위해</td>\n",
       "      <td>2</td>\n",
       "      <td>10</td>\n",
       "      <td>10</td>\n",
       "      <td>60</td>\n",
       "      <td>10</td>\n",
       "      <td>20</td>\n",
       "      <td>0</td>\n",
       "      <td>헬스-보디빌딩 직접 하기</td>\n",
       "      <td>걷기-속보-조깅 직접 하기</td>\n",
       "      <td>독서</td>\n",
       "      <td>게임</td>\n",
       "      <td>친구-이성친구 만남</td>\n",
       "    </tr>\n",
       "    <tr>\n",
       "      <th>1</th>\n",
       "      <td>M</td>\n",
       "      <td>20대</td>\n",
       "      <td>세종특별자치시</td>\n",
       "      <td>300만원 미만</td>\n",
       "      <td>마음의 안정-휴식을 위해</td>\n",
       "      <td>스트레스 해소를 위해</td>\n",
       "      <td>3</td>\n",
       "      <td>7</td>\n",
       "      <td>50</td>\n",
       "      <td>30</td>\n",
       "      <td>20</td>\n",
       "      <td>0</td>\n",
       "      <td>0</td>\n",
       "      <td>산책-걷기</td>\n",
       "      <td>없음</td>\n",
       "      <td>없음</td>\n",
       "      <td>없음</td>\n",
       "      <td>없음</td>\n",
       "    </tr>\n",
       "    <tr>\n",
       "      <th>2</th>\n",
       "      <td>F</td>\n",
       "      <td>30대</td>\n",
       "      <td>서울특별시</td>\n",
       "      <td>300만원 미만</td>\n",
       "      <td>자기 계발을 위해</td>\n",
       "      <td>건강 관리를 위해</td>\n",
       "      <td>3</td>\n",
       "      <td>10</td>\n",
       "      <td>10</td>\n",
       "      <td>40</td>\n",
       "      <td>30</td>\n",
       "      <td>20</td>\n",
       "      <td>0</td>\n",
       "      <td>헬스-보디빌딩 직접 하기</td>\n",
       "      <td>어학-기술-자격증 취득</td>\n",
       "      <td>영상 컨텐츠 시청</td>\n",
       "      <td>등산 직접 하기</td>\n",
       "      <td>친구-이성친구 만남</td>\n",
       "    </tr>\n",
       "  </tbody>\n",
       "</table>\n",
       "</div>"
      ],
      "text/plain": [
       "  성별구분코드 연령대구분명 답변자거주지역명   가구소득정도명   레저시간사용목적1순위값 레저시간사용목적2순위값  평일일평균레저시간값  \\\n",
       "0      M    20대    대전광역시  300만원 미만  마음의 안정-휴식을 위해  스트레스 해소를 위해           2   \n",
       "1      M    20대  세종특별자치시  300만원 미만  마음의 안정-휴식을 위해  스트레스 해소를 위해           3   \n",
       "2      F    30대    서울특별시  300만원 미만      자기 계발을 위해    건강 관리를 위해           3   \n",
       "\n",
       "   주말일평균레저시간값  레저시간휴식오락사용비율  레저시간취미사용비율  레저시간본인계발사용비율  레저시간대인관계교제사용비율  \\\n",
       "0          10            10          60            10              20   \n",
       "1           7            50          30            20               0   \n",
       "2          10            10          40            30              20   \n",
       "\n",
       "   레저시간기타사용비율     관심레저활동1순위값      관심레저활동2순위값 관심레저활동3순위값 관심레저활동4순위값  관심레저활동5순위값  \n",
       "0           0  헬스-보디빌딩 직접 하기  걷기-속보-조깅 직접 하기         독서         게임  친구-이성친구 만남  \n",
       "1           0          산책-걷기              없음         없음         없음          없음  \n",
       "2           0  헬스-보디빌딩 직접 하기    어학-기술-자격증 취득  영상 컨텐츠 시청   등산 직접 하기  친구-이성친구 만남  "
      ]
     },
     "execution_count": 11,
     "metadata": {},
     "output_type": "execute_result"
    }
   ],
   "source": [
    "# 우리 서비스의 최종 목표는 은둔형 외톨이들이 자신감을 찾아 일반 직업활동을 하는 것으로 둔다.\n",
    "# 그렇기 때문에, 현재 소득 300만원 미만의 2030 청년들의 여가활동/문화활동/취미활동이,\n",
    "# 고립 생활에서 갓 벗어나 평범한 직업활동을 하는 사회 청년이 된 은둔형 외톨이들이 하게 될, 여가활동/문화활동/취미활동이 될 것이다.\n",
    "condmoney = (df['가구소득정도명']=='300만원 미만')\n",
    "df = df[condmoney]\n",
    "df = df.reset_index(drop=True)\n",
    "df.head(3)"
   ]
  },
  {
   "cell_type": "markdown",
   "id": "57c28afa-00aa-4244-ab10-4f25993582af",
   "metadata": {},
   "source": [
    "# 시각화"
   ]
  },
  {
   "cell_type": "markdown",
   "id": "47b70217-12a1-4b8e-b03f-55699e32a48a",
   "metadata": {},
   "source": [
    "## 레저시간사용목적 에 대한 분석"
   ]
  },
  {
   "cell_type": "code",
   "execution_count": 12,
   "id": "1b3da59d-667b-4398-b0d5-ae97d8c7a4d7",
   "metadata": {},
   "outputs": [
    {
     "data": {
      "text/plain": [
       "레저시간사용목적1순위값\n",
       "자기만족-즐거움을 위해           13\n",
       "스트레스 해소를 위해            11\n",
       "마음의 안정-휴식을 위해           8\n",
       "가족-지인 등과 시간을 보내기 위해     5\n",
       "남는 시간을 보내기 위해           5\n",
       "대인 관계-교제를 위해            3\n",
       "자기 계발을 위해               1\n",
       "건강 관리를 위해               1\n",
       "Name: count, dtype: int64"
      ]
     },
     "execution_count": 12,
     "metadata": {},
     "output_type": "execute_result"
    }
   ],
   "source": [
    "df['레저시간사용목적1순위값'].value_counts()"
   ]
  },
  {
   "cell_type": "code",
   "execution_count": 13,
   "id": "88fa626f-f068-41ef-88ca-bd5742764c90",
   "metadata": {},
   "outputs": [
    {
     "data": {
      "image/png": "[encoded data removed]",
      "text/plain": [
       "<Figure size 1000x600 with 2 Axes>"
      ]
     },
     "metadata": {},
     "output_type": "display_data"
    }
   ],
   "source": [
    "import matplotlib.pyplot as plt\n",
    "from matplotlib import font_manager, rc\n",
    "from matplotlib.patches import Patch\n",
    "\n",
    "# 한글 폰트 설정\n",
    "font_path = \"C:/Windows/Fonts/malgun.ttf\"  # 한글 폰트 경로\n",
    "font_name = font_manager.FontProperties(fname=font_path).get_name()\n",
    "rc('font', family=font_name)\n",
    "\n",
    "# 시각화를 위한 데이터 준비\n",
    "labels = df['레저시간사용목적1순위값'].value_counts().index\n",
    "sizes = df['레저시간사용목적1순위값'].value_counts().values\n",
    "\n",
    "# 색상 리스트 생성\n",
    "colors = ['lightskyblue', 'lightcoral', 'lightgreen', 'lightblue', 'lightcyan', 'lightgrey', 'lightpink', 'lightyellow']\n",
    "# 파이차트 그리기\n",
    "fig, axs = plt.subplots(1, 2, figsize=(10, 6))\n",
    "\n",
    "# 파이차트 그리기\n",
    "patches, _, _ = axs[0].pie(sizes, startangle=140, autopct='%1.1f%%', colors=colors)\n",
    "\n",
    "# 범례 색상 지정\n",
    "legend_patches = [Patch(color=color) for color in colors]\n",
    "\n",
    "# 범례 추가\n",
    "axs[1].axis('off')\n",
    "axs[1].legend(legend_patches, labels, loc=\"center left\", title=\"레저시간사용목적1순위값\", title_fontsize='large')\n",
    "\n",
    "plt.show()"
   ]
  },
  {
   "cell_type": "code",
   "execution_count": 14,
   "id": "47db391e-a47f-4c13-8ac1-10c60d48405b",
   "metadata": {},
   "outputs": [
    {
     "data": {
      "text/plain": [
       "레저시간사용목적2순위값\n",
       "가족-지인 등과 시간을 보내기 위해    13\n",
       "마음의 안정-휴식을 위해           8\n",
       "스트레스 해소를 위해             7\n",
       "자기만족-즐거움을 위해            6\n",
       "자기 계발을 위해               5\n",
       "없음                      4\n",
       "건강 관리를 위해               3\n",
       "남는 시간을 보내기 위해           1\n",
       "Name: count, dtype: int64"
      ]
     },
     "execution_count": 14,
     "metadata": {},
     "output_type": "execute_result"
    }
   ],
   "source": [
    "df['레저시간사용목적2순위값'].value_counts()"
   ]
  },
  {
   "cell_type": "code",
   "execution_count": 15,
   "id": "369c6005-4794-4ebc-bf27-d0755360548c",
   "metadata": {},
   "outputs": [
    {
     "data": {
      "image/png": "[encoded data removed]",
      "text/plain": [
       "<Figure size 1000x600 with 2 Axes>"
      ]
     },
     "metadata": {},
     "output_type": "display_data"
    }
   ],
   "source": [
    "import matplotlib.pyplot as plt\n",
    "from matplotlib import font_manager, rc\n",
    "from matplotlib.patches import Patch\n",
    "\n",
    "# 한글 폰트 설정\n",
    "font_path = \"C:/Windows/Fonts/malgun.ttf\"  # 한글 폰트 경로\n",
    "font_name = font_manager.FontProperties(fname=font_path).get_name()\n",
    "rc('font', family=font_name)\n",
    "\n",
    "# 시각화를 위한 데이터 준비\n",
    "labels = df['레저시간사용목적2순위값'].value_counts().index\n",
    "sizes = df['레저시간사용목적2순위값'].value_counts().values\n",
    "\n",
    "# 색상 리스트 생성\n",
    "colors = ['lightblue', 'lightgreen', 'lightcoral', 'lightskyblue', 'lightpink', 'lightgrey', 'lightyellow', 'lightcyan']\n",
    "\n",
    "# 파이차트 그리기\n",
    "fig, axs = plt.subplots(1, 2, figsize=(10, 6))\n",
    "\n",
    "# 파이차트 그리기\n",
    "patches, _, _ = axs[0].pie(sizes, startangle=140, autopct='%1.1f%%', colors=colors)\n",
    "\n",
    "# 범례 색상 지정\n",
    "legend_patches = [Patch(color=color) for color in colors]\n",
    "\n",
    "# 범례 추가\n",
    "axs[1].axis('off')\n",
    "axs[1].legend(legend_patches, labels, loc=\"center left\", title=\"레저시간사용목적2순위값\", title_fontsize='large')\n",
    "\n",
    "plt.show()"
   ]
  },
  {
   "cell_type": "markdown",
   "id": "c088103b-1807-4da1-9860-00a699917f5a",
   "metadata": {},
   "source": [
    "### 레저시간 사용목적 1&2순위 데이터 간의 관계를 이해하기 위해서 교차 테이블(Cross-tabulation)을 사용하여 두 변수 간의 '빈도'를 비교. \n",
    "### 이를 통해 각 투표가 얼마나 많이 발생하는지, 얼마나 자주 함께 발생하는지 등을 확인가능.\n",
    "### 위 코드를 실행하면 각 레저시간사용목적값의 조합에 대한 빈도를 히트맵으로 시각화. 이를 통해 각 값들 간의 연관성을 파악."
   ]
  },
  {
   "cell_type": "code",
   "execution_count": 16,
   "id": "25e9c61d-ca6e-4973-a872-88cab72e287c",
   "metadata": {},
   "outputs": [
    {
     "data": {
      "image/png": "[encoded data removed]",
      "text/plain": [
       "<Figure size 1000x600 with 2 Axes>"
      ]
     },
     "metadata": {},
     "output_type": "display_data"
    }
   ],
   "source": [
    "import pandas as pd\n",
    "import seaborn as sns\n",
    "import matplotlib.pyplot as plt\n",
    "\n",
    "# 레저시간사용목적값에 대한 교차테이블 생성\n",
    "cross_tab = pd.crosstab(df['레저시간사용목적1순위값'], df['레저시간사용목적2순위값'])\n",
    "\n",
    "# 히트맵으로 교차테이블 시각화\n",
    "plt.figure(figsize=(10, 6))\n",
    "sns.heatmap(cross_tab, annot=True, cmap=\"YlGnBu\")\n",
    "plt.title('레저시간사용목적 1순위와 2순위 교차테이블')\n",
    "plt.xlabel('레저시간사용목적2순위값')\n",
    "plt.ylabel('레저시간사용목적1순위값')\n",
    "plt.show()"
   ]
  },
  {
   "cell_type": "markdown",
   "id": "256749f7-aec8-4624-a239-651c47615125",
   "metadata": {
    "jp-MarkdownHeadingCollapsed": true
   },
   "source": [
    "### 레저시간 사용목적 1,2순위 결과 :\n",
    "- 1순위 가장 큰 목적은 레저시간을 자기만족-즐거움을 위해 사용하고,\n",
    "- 1순위 두번째 큰 목적은 스트레스 해소를 위해 사용한다.\n",
    "\n",
    "- 2순위 가장 큰 목적은 가족-지인 등과 시간을 보내기 위해 사용하고,\n",
    "- 2순위 두번째 큰 목적은 마음의 안정-휴식을 위해 사용한다."
   ]
  },
  {
   "cell_type": "markdown",
   "id": "c64e566c-e7aa-4e7f-a60a-dc6a3087e250",
   "metadata": {},
   "source": [
    "### ※ 2030청년들은 여가시간에, 자신들의 즐거움을 채우고 자신이 흥미있는 것을 하며 보낸다. 또한 스트레스를 해소하기 위해서도 사용한다.\n",
    "### 그것들이 이루어진 후, 가족-지인 등과 시간을 보내거나 마음의 안정-휴식을 찾으며 여가를 보낸다."
   ]
  },
  {
   "cell_type": "code",
   "execution_count": 17,
   "id": "5b8f468b-c62d-447f-84a3-b59648ac13e9",
   "metadata": {},
   "outputs": [
    {
     "data": {
      "text/html": [
       "<div>\n",
       "<style scoped>\n",
       "    .dataframe tbody tr th:only-of-type {\n",
       "        vertical-align: middle;\n",
       "    }\n",
       "\n",
       "    .dataframe tbody tr th {\n",
       "        vertical-align: top;\n",
       "    }\n",
       "\n",
       "    .dataframe thead th {\n",
       "        text-align: right;\n",
       "    }\n",
       "</style>\n",
       "<table border=\"1\" class=\"dataframe\">\n",
       "  <thead>\n",
       "    <tr style=\"text-align: right;\">\n",
       "      <th></th>\n",
       "      <th>성별구분코드</th>\n",
       "      <th>연령대구분명</th>\n",
       "      <th>답변자거주지역명</th>\n",
       "      <th>가구소득정도명</th>\n",
       "      <th>레저시간사용목적1순위값</th>\n",
       "      <th>레저시간사용목적2순위값</th>\n",
       "      <th>평일일평균레저시간값</th>\n",
       "      <th>주말일평균레저시간값</th>\n",
       "      <th>레저시간휴식오락사용비율</th>\n",
       "      <th>레저시간취미사용비율</th>\n",
       "      <th>레저시간본인계발사용비율</th>\n",
       "      <th>레저시간대인관계교제사용비율</th>\n",
       "      <th>레저시간기타사용비율</th>\n",
       "      <th>관심레저활동1순위값</th>\n",
       "      <th>관심레저활동2순위값</th>\n",
       "      <th>관심레저활동3순위값</th>\n",
       "      <th>관심레저활동4순위값</th>\n",
       "      <th>관심레저활동5순위값</th>\n",
       "    </tr>\n",
       "  </thead>\n",
       "  <tbody>\n",
       "    <tr>\n",
       "      <th>0</th>\n",
       "      <td>M</td>\n",
       "      <td>20대</td>\n",
       "      <td>대전광역시</td>\n",
       "      <td>300만원 미만</td>\n",
       "      <td>마음의 안정-휴식을 위해</td>\n",
       "      <td>스트레스 해소를 위해</td>\n",
       "      <td>2</td>\n",
       "      <td>10</td>\n",
       "      <td>10</td>\n",
       "      <td>60</td>\n",
       "      <td>10</td>\n",
       "      <td>20</td>\n",
       "      <td>0</td>\n",
       "      <td>헬스-보디빌딩 직접 하기</td>\n",
       "      <td>걷기-속보-조깅 직접 하기</td>\n",
       "      <td>독서</td>\n",
       "      <td>게임</td>\n",
       "      <td>친구-이성친구 만남</td>\n",
       "    </tr>\n",
       "    <tr>\n",
       "      <th>1</th>\n",
       "      <td>M</td>\n",
       "      <td>20대</td>\n",
       "      <td>세종특별자치시</td>\n",
       "      <td>300만원 미만</td>\n",
       "      <td>마음의 안정-휴식을 위해</td>\n",
       "      <td>스트레스 해소를 위해</td>\n",
       "      <td>3</td>\n",
       "      <td>7</td>\n",
       "      <td>50</td>\n",
       "      <td>30</td>\n",
       "      <td>20</td>\n",
       "      <td>0</td>\n",
       "      <td>0</td>\n",
       "      <td>산책-걷기</td>\n",
       "      <td>없음</td>\n",
       "      <td>없음</td>\n",
       "      <td>없음</td>\n",
       "      <td>없음</td>\n",
       "    </tr>\n",
       "    <tr>\n",
       "      <th>2</th>\n",
       "      <td>F</td>\n",
       "      <td>30대</td>\n",
       "      <td>서울특별시</td>\n",
       "      <td>300만원 미만</td>\n",
       "      <td>자기 계발을 위해</td>\n",
       "      <td>건강 관리를 위해</td>\n",
       "      <td>3</td>\n",
       "      <td>10</td>\n",
       "      <td>10</td>\n",
       "      <td>40</td>\n",
       "      <td>30</td>\n",
       "      <td>20</td>\n",
       "      <td>0</td>\n",
       "      <td>헬스-보디빌딩 직접 하기</td>\n",
       "      <td>어학-기술-자격증 취득</td>\n",
       "      <td>영상 컨텐츠 시청</td>\n",
       "      <td>등산 직접 하기</td>\n",
       "      <td>친구-이성친구 만남</td>\n",
       "    </tr>\n",
       "  </tbody>\n",
       "</table>\n",
       "</div>"
      ],
      "text/plain": [
       "  성별구분코드 연령대구분명 답변자거주지역명   가구소득정도명   레저시간사용목적1순위값 레저시간사용목적2순위값  평일일평균레저시간값  \\\n",
       "0      M    20대    대전광역시  300만원 미만  마음의 안정-휴식을 위해  스트레스 해소를 위해           2   \n",
       "1      M    20대  세종특별자치시  300만원 미만  마음의 안정-휴식을 위해  스트레스 해소를 위해           3   \n",
       "2      F    30대    서울특별시  300만원 미만      자기 계발을 위해    건강 관리를 위해           3   \n",
       "\n",
       "   주말일평균레저시간값  레저시간휴식오락사용비율  레저시간취미사용비율  레저시간본인계발사용비율  레저시간대인관계교제사용비율  \\\n",
       "0          10            10          60            10              20   \n",
       "1           7            50          30            20               0   \n",
       "2          10            10          40            30              20   \n",
       "\n",
       "   레저시간기타사용비율     관심레저활동1순위값      관심레저활동2순위값 관심레저활동3순위값 관심레저활동4순위값  관심레저활동5순위값  \n",
       "0           0  헬스-보디빌딩 직접 하기  걷기-속보-조깅 직접 하기         독서         게임  친구-이성친구 만남  \n",
       "1           0          산책-걷기              없음         없음         없음          없음  \n",
       "2           0  헬스-보디빌딩 직접 하기    어학-기술-자격증 취득  영상 컨텐츠 시청   등산 직접 하기  친구-이성친구 만남  "
      ]
     },
     "execution_count": 17,
     "metadata": {},
     "output_type": "execute_result"
    }
   ],
   "source": [
    "df.head(3)"
   ]
  },
  {
   "cell_type": "markdown",
   "id": "c4649ae0-d074-4e9e-a88f-b2f1ee62bad1",
   "metadata": {},
   "source": [
    "## 평일/ 주말 의 평균레저시간에 대한 분석"
   ]
  },
  {
   "cell_type": "code",
   "execution_count": 18,
   "id": "20c786b6-b43d-44ae-8f14-7066027ff94b",
   "metadata": {},
   "outputs": [
    {
     "data": {
      "text/plain": [
       "평일일평균레저시간값\n",
       "2     13\n",
       "3     13\n",
       "5      7\n",
       "1      5\n",
       "4      3\n",
       "6      2\n",
       "7      2\n",
       "10     1\n",
       "8      1\n",
       "Name: count, dtype: int64"
      ]
     },
     "execution_count": 18,
     "metadata": {},
     "output_type": "execute_result"
    }
   ],
   "source": [
    "df['평일일평균레저시간값'].value_counts()"
   ]
  },
  {
   "cell_type": "markdown",
   "id": "74fb25c8-50b8-4083-979a-78471038bc08",
   "metadata": {},
   "source": [
    "### 이상치 대체"
   ]
  },
  {
   "cell_type": "code",
   "execution_count": 37,
   "id": "6a39af57-600e-4e57-896a-236f0010423d",
   "metadata": {},
   "outputs": [
    {
     "data": {
      "text/plain": [
       "<Axes: ylabel='평일일평균레저시간값'>"
      ]
     },
     "execution_count": 37,
     "metadata": {},
     "output_type": "execute_result"
    },
    {
     "data": {
      "image/png": "[encoded data removed]",
      "text/plain": [
       "<Figure size 640x480 with 1 Axes>"
      ]
     },
     "metadata": {},
     "output_type": "display_data"
    }
   ],
   "source": [
    "# 이상치 대체\n",
    "import seaborn as sns\n",
    "\n",
    "df_weekdays = df['평일일평균레저시간값'].copy()\n",
    "sns.boxplot(df_weekdays)"
   ]
  },
  {
   "cell_type": "code",
   "execution_count": 38,
   "id": "9fb8826a-f400-4771-961a-b8b374938a11",
   "metadata": {},
   "outputs": [
    {
     "data": {
      "text/plain": [
       "평일일평균레저시간값\n",
       "2     13\n",
       "3     13\n",
       "5      7\n",
       "1      5\n",
       "4      3\n",
       "6      2\n",
       "7      2\n",
       "10     1\n",
       "8      1\n",
       "Name: count, dtype: int64"
      ]
     },
     "execution_count": 38,
     "metadata": {},
     "output_type": "execute_result"
    }
   ],
   "source": [
    "df_weekdays.value_counts()"
   ]
  }
 ],
 "metadata": {
  "kernelspec": {
   "display_name": "Python 3 (ipykernel)",
   "language": "python",
   "name": "python3"
  },
  "language_info": {
   "codemirror_mode": {
    "name": "ipython",
    "version": 3
   },
   "file_extension": ".py",
   "mimetype": "text/x-python",
   "name": "python",
   "nbconvert_exporter": "python",
   "pygments_lexer": "ipython3",
   "version": "3.12.3"
  }
 },
 "nbformat": 4,
 "nbformat_minor": 5
}
