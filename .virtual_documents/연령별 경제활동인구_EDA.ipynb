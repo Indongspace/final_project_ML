import pandas as pd
import numpy as np

df_20 = pd.read_csv('data/for_ML/연령별 경제활동인구 20대.csv')
df_30 = pd.read_csv('data/for_ML/연령별 경제활동인구 30대.csv')


df_20.index = df_20['시점']
df_20 = df_20.drop(['시점'], axis=1)
df_20.head(5)


df_30.index = df_30['시점']
df_30 = df_30.drop(['시점'], axis=1)
df_30.head(5)


print(df_20.tail(3))
print(df_30.tail(3))


print(df_20.info())
print(df_30.info())


print(df_20.isnull().sum())
print(df_30.isnull().sum())


df_20.describe().T


df_30.describe().T





# 경제활동인구 이상치 탐색
Q1 = df_20['경제활동인구[천명]'].quantile(0.25)
Q3 = df_20['경제활동인구[천명]'].quantile(0.75)
IQR = Q3 - Q1

upper = (df_20['경제활동인구[천명]'] > Q3 + 1.5*IQR)
lower = (df_20['경제활동인구[천명]'] < Q1 - 1.5*IQR)

df_20['경제활동인구[천명]'][upper | lower]


# 인구[천명] 이상치 탐색
Q1 = df_20['인구[천명]'].quantile(0.25)
Q3 = df_20['인구[천명]'].quantile(0.75)
IQR = Q3 - Q1

upper = (df_20['인구[천명]'] > Q3 + 1.5*IQR)
lower = (df_20['인구[천명]'] < Q1 - 1.5*IQR)

df_20[upper | lower]


# 취업자[천명] 이상치 탐색
Q1 = df_20['취업자[천명]'].quantile(0.25)
Q3 = df_20['취업자[천명]'].quantile(0.75)
IQR = Q3 - Q1

upper = (df_20['취업자[천명]'] > Q3 + 1.5*IQR)
lower = (df_20['취업자[천명]'] < Q1 - 1.5*IQR)

df_20[upper | lower]


# 실업자[천명] 이상치 탐색
Q1 = df_20['실업자[천명]'].quantile(0.25)
Q3 = df_20['실업자[천명]'].quantile(0.75)
IQR = Q3 - Q1

upper = (df_20['실업자[천명]'] > Q3 + 1.5*IQR)
lower = (df_20['실업자[천명]'] < Q1 - 1.5*IQR)

print(df_20[upper])
print(df_20[lower])


# 실업자는 2000.1 2016.2 2017.2 2019.4월에 대폭 증가, 2023.8 대폭 감소했다.


# 비경제활동인구[천명] 이상치 탐색
Q1 = df_20['비경제활동인구[천명]'].quantile(0.25)
Q3 = df_20['비경제활동인구[천명]'].quantile(0.75)
IQR = Q3 - Q1

upper = (df_20['비경제활동인구[천명]'] > Q3 + 1.5*IQR)
lower = (df_20['비경제활동인구[천명]'] < Q1 - 1.5*IQR)

df_20[upper]


df_20[lower]


# 비경제활동인구는 가장 최근 2024.4가 가장 적다.


# 경제활동참가율[%] 이상치 탐색
Q1 = df_20['경제활동참가율[%]'].quantile(0.25)
Q3 = df_20['경제활동참가율[%]'].quantile(0.75)
IQR = Q3 - Q1

upper = (df_20['경제활동참가율[%]'] > Q3 + 1.5*IQR)
lower = (df_20['경제활동참가율[%]'] < Q1 - 1.5*IQR)

df_20[lower]


# 코로나에 경제활동 참가율이 가장 적다. 20년 끝자락과 21년 시작
# 실업자는 2019년에 많았는데 경제활동 참가율이 20년,21년에 가장 적은 걸 보면, 20년말 21년초에 일을 구하지 않고 '쉬고' 있는 사람이 많다는 것이다.
# 그래프 추세를 확인해야 겠다. 그래서 단순히 코로나 때문에 집콕이 많았던 것인지, 아니면 추세가 쉬고 있는 청년이 점점 증가하고 있는 것인지 확인이 필요하다.


# 실업률[%] 이상치 탐색
Q1 = df_20['실업률[%]'].quantile(0.25)
Q3 = df_20['실업률[%]'].quantile(0.75)
IQR = Q3 - Q1

upper = (df_20['실업률[%]'] > Q3 + 1.5*IQR)
lower = (df_20['실업률[%]'] < Q1 - 1.5*IQR)

df_20[upper]


# 실업률은 7.5퍼센트 정도가 평균이며 11퍼센트가 넘으면 이상치로 판단  


# 고용률[%] 이상치 탐색
Q1 = df_20['고용률[%]'].quantile(0.25)
Q3 = df_20['고용률[%]'].quantile(0.75)
IQR = Q3 - Q1

upper = (df_20['고용률[%]'] > Q3 + 1.5*IQR)
lower = (df_20['고용률[%]'] < Q1 - 1.5*IQR)

df_20[upper | lower]


import matplotlib.pyplot as plt
from matplotlib import font_manager, rc
import platform

# 한글 폰트 설정
if platform.system() == 'Windows':
    font_name = font_manager.FontProperties(fname="C:/Windows/Fonts/NanumGothic.ttf").get_name()
    rc('font', family=font_name)
elif platform.system() == 'Darwin':  # macOS
    rc('font', family='NanumGothic')
else:
    print("Unsupported OS")


import matplotlib.pyplot as plt

plt.figure(figsize=(12,6))

plt.plot(df_20.index, df_20['경제활동인구[천명]'], color='blue', linestyle='-',marker='o', markersize=3, label='경제활동인구[천명]')
plt.plot(df_20.index, df_20['비경제활동인구[천명]'], color='red', linestyle='-',marker='o', markersize=3, label='비경제활동인구[천명]')
plt.title('경제활동인구 추세')
plt.xlabel('기간')
plt.ylabel('단위 천명')
plt.legend()
plt.xticks(ticks=df_20.index[::12], rotation=45)

plt.show()


# 경제활동참가율[%] 추세
import matplotlib.pyplot as plt

plt.figure(figsize=(12,6))

plt.plot(df_20.index, df_20['경제활동참가율[%]'], color='gold', linestyle='-',marker='o', markersize=3, label='경제활동참가율[%]')

plt.title('경제활동참가율[%] 추세')
plt.xlabel('기간')
plt.ylabel('단위 %')
plt.legend()
plt.xticks(ticks=df_20.index[::12], rotation=45)

plt.show()


df_20.describe().T


# 모집단 1개 df_20['경제활동참가율[%]']에 대해 가설검정 진행
# 1. 가설설정
# 2. 유의수준 확인
# 3. 정규성 검정
# 4. 가설검증
# 5. 귀무가설 여부 결정


# 1. 가설설정
# H0 : df_20['경제활동참가율[%]']의 평균을 64라고 할 수 있다.
# H1 : df_20['경제활동참가율[%]']의 평균이 64가 아니다.


# 2. 유의수준 5%로 가정


# 3. 정규성 검정
import scipy.stats as stats
from scipy.stats import shapiro

statistic, pvalue = stats.shapiro(df_20['경제활동참가율[%]'])
print(round(statistic,4), round(pvalue, 4))


# H0 : 정규분포를 따른다.
# H1 : 정규분포를 따르지 않는다.
# 유의수준 5% 하에서 귀무가설 기각, 비모수 검정을 진행하기로 결정


# 4. 가설검증
statistic, pvalue = stats.wilcoxon(df_20['경제활동참가율[%]']-64, alternative='two-sided')
print(round(statistic,4), round(pvalue, 4))


# 5. 귀무가설 기각여부 결정
# 유의수준 5% 하에서 귀무가설 채택
# 경제활동참가율의 평균은 64라고 할 수 있다.






