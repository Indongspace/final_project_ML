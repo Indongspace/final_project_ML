import pandas as pd
import numpy as np

# 단위 백만원

df = pd.read_excel('data/for_ML/사회복지지출 금액 분류.xlsx')
df.head(3)


# 행 열 바꾸기
df = df.transpose()
df.head(3)


df.columns = df.iloc[0]
df = df[1:]

df


df.info()


df['근로무능력관련급여'] = df['근로무능력관련급여'].astype(float)
df['적극적노동시장프로그램'] = df['적극적노동시장프로그램'].astype(float)
df['실업'] = df['실업'].astype(float)


df.index = df.index.map(str)


df.info()


df.head(3)


import matplotlib.pyplot as plt
from matplotlib import font_manager, rc
import platform

# 한글 폰트 설정
if platform.system() == 'Windows':
    font_name = font_manager.FontProperties(fname="C:/Windows/Fonts/NanumGothic.ttf").get_name()
    rc('font', family=font_name)
elif platform.system() == 'Darwin':  # macOS
    rc('font', family='NanumGothic')
else:
    print("Unsupported OS")


import matplotlib.pyplot as plt

plt.figure(figsize=(12,6))

plt.plot(df.index, df['근로무능력관련급여'], label = '근로무능력관련급여')
plt.plot(df.index, df['적극적노동시장프로그램'], label = '적극적노동시장프로그램')
plt.plot(df.index, df['실업'], label = '실업')

plt.title('사회복지지출 금액')
plt.xlabel('연도별 흐름')
plt.ylabel('금액(단위 백만원)')
plt.xticks(df.index)

plt.legend()
plt.show()


df.describe().T



